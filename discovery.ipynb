{
 "cells": [
  {
   "cell_type": "code",
   "execution_count": 1,
   "id": "2d831d5d",
   "metadata": {},
   "outputs": [
    {
     "name": "stdout",
     "output_type": "stream",
     "text": [
      "2.2.3\n"
     ]
    }
   ],
   "source": [
    "import pandas as pd\n",
    "print(pd.__version__)"
   ]
  },
  {
   "cell_type": "code",
   "execution_count": 5,
   "id": "9dedc88c",
   "metadata": {},
   "outputs": [],
   "source": [
    "dados_2025 = pd.read_excel(\"BancoVDE 2025.xlsx\")\n",
    "dados_2024 = pd.read_excel(\"BancoVDE 2024.xlsx\")"
   ]
  },
  {
   "cell_type": "code",
   "execution_count": 3,
   "id": "6460ea2f",
   "metadata": {},
   "outputs": [
    {
     "data": {
      "application/vnd.microsoft.datawrangler.viewer.v0+json": {
       "columns": [
        {
         "name": "index",
         "rawType": "int64",
         "type": "integer"
        },
        {
         "name": "uf",
         "rawType": "object",
         "type": "string"
        },
        {
         "name": "municipio",
         "rawType": "object",
         "type": "string"
        },
        {
         "name": "evento",
         "rawType": "object",
         "type": "string"
        },
        {
         "name": "data_referencia",
         "rawType": "datetime64[ns]",
         "type": "datetime"
        },
        {
         "name": "agente",
         "rawType": "object",
         "type": "unknown"
        },
        {
         "name": "arma",
         "rawType": "object",
         "type": "unknown"
        },
        {
         "name": "faixa_etaria",
         "rawType": "object",
         "type": "unknown"
        },
        {
         "name": "feminino",
         "rawType": "float64",
         "type": "float"
        },
        {
         "name": "masculino",
         "rawType": "float64",
         "type": "float"
        },
        {
         "name": "nao_informado",
         "rawType": "float64",
         "type": "float"
        },
        {
         "name": "total_vitima",
         "rawType": "float64",
         "type": "float"
        },
        {
         "name": "total",
         "rawType": "float64",
         "type": "float"
        },
        {
         "name": "total_peso",
         "rawType": "float64",
         "type": "float"
        },
        {
         "name": "abrangencia",
         "rawType": "object",
         "type": "string"
        },
        {
         "name": "formulario",
         "rawType": "object",
         "type": "string"
        }
       ],
       "conversionMethod": "pd.DataFrame",
       "ref": "64fc7a68-cbec-47a3-990f-3423b26a5465",
       "rows": [
        [
         "0",
         "AC",
         "NÃO INFORMADO",
         "Apreensão de Cocaína",
         "2025-01-01 00:00:00",
         null,
         null,
         null,
         null,
         null,
         null,
         null,
         null,
         "10.121",
         "Estadual",
         "Formulário 5"
        ],
        [
         "1",
         "AL",
         "NÃO INFORMADO",
         "Apreensão de Cocaína",
         "2025-01-01 00:00:00",
         null,
         null,
         null,
         null,
         null,
         null,
         null,
         null,
         "25.38",
         "Estadual",
         "Formulário 5"
        ],
        [
         "2",
         "AM",
         "NÃO INFORMADO",
         "Apreensão de Cocaína",
         "2025-01-01 00:00:00",
         null,
         null,
         null,
         null,
         null,
         null,
         null,
         null,
         "498.02",
         "Estadual",
         "Formulário 5"
        ],
        [
         "3",
         "AP",
         "NÃO INFORMADO",
         "Apreensão de Cocaína",
         "2025-01-01 00:00:00",
         null,
         null,
         null,
         null,
         null,
         null,
         null,
         null,
         null,
         "Estadual",
         "Formulário 5"
        ],
        [
         "4",
         "BA",
         "NÃO INFORMADO",
         "Apreensão de Cocaína",
         "2025-01-01 00:00:00",
         null,
         null,
         null,
         null,
         null,
         null,
         null,
         null,
         "215.877",
         "Estadual",
         "Formulário 5"
        ]
       ],
       "shape": {
        "columns": 15,
        "rows": 5
       }
      },
      "text/html": [
       "<div>\n",
       "<style scoped>\n",
       "    .dataframe tbody tr th:only-of-type {\n",
       "        vertical-align: middle;\n",
       "    }\n",
       "\n",
       "    .dataframe tbody tr th {\n",
       "        vertical-align: top;\n",
       "    }\n",
       "\n",
       "    .dataframe thead th {\n",
       "        text-align: right;\n",
       "    }\n",
       "</style>\n",
       "<table border=\"1\" class=\"dataframe\">\n",
       "  <thead>\n",
       "    <tr style=\"text-align: right;\">\n",
       "      <th></th>\n",
       "      <th>uf</th>\n",
       "      <th>municipio</th>\n",
       "      <th>evento</th>\n",
       "      <th>data_referencia</th>\n",
       "      <th>agente</th>\n",
       "      <th>arma</th>\n",
       "      <th>faixa_etaria</th>\n",
       "      <th>feminino</th>\n",
       "      <th>masculino</th>\n",
       "      <th>nao_informado</th>\n",
       "      <th>total_vitima</th>\n",
       "      <th>total</th>\n",
       "      <th>total_peso</th>\n",
       "      <th>abrangencia</th>\n",
       "      <th>formulario</th>\n",
       "    </tr>\n",
       "  </thead>\n",
       "  <tbody>\n",
       "    <tr>\n",
       "      <th>0</th>\n",
       "      <td>AC</td>\n",
       "      <td>NÃO INFORMADO</td>\n",
       "      <td>Apreensão de Cocaína</td>\n",
       "      <td>2025-01-01</td>\n",
       "      <td>NaN</td>\n",
       "      <td>NaN</td>\n",
       "      <td>NaN</td>\n",
       "      <td>NaN</td>\n",
       "      <td>NaN</td>\n",
       "      <td>NaN</td>\n",
       "      <td>NaN</td>\n",
       "      <td>NaN</td>\n",
       "      <td>10.121</td>\n",
       "      <td>Estadual</td>\n",
       "      <td>Formulário 5</td>\n",
       "    </tr>\n",
       "    <tr>\n",
       "      <th>1</th>\n",
       "      <td>AL</td>\n",
       "      <td>NÃO INFORMADO</td>\n",
       "      <td>Apreensão de Cocaína</td>\n",
       "      <td>2025-01-01</td>\n",
       "      <td>NaN</td>\n",
       "      <td>NaN</td>\n",
       "      <td>NaN</td>\n",
       "      <td>NaN</td>\n",
       "      <td>NaN</td>\n",
       "      <td>NaN</td>\n",
       "      <td>NaN</td>\n",
       "      <td>NaN</td>\n",
       "      <td>25.380</td>\n",
       "      <td>Estadual</td>\n",
       "      <td>Formulário 5</td>\n",
       "    </tr>\n",
       "    <tr>\n",
       "      <th>2</th>\n",
       "      <td>AM</td>\n",
       "      <td>NÃO INFORMADO</td>\n",
       "      <td>Apreensão de Cocaína</td>\n",
       "      <td>2025-01-01</td>\n",
       "      <td>NaN</td>\n",
       "      <td>NaN</td>\n",
       "      <td>NaN</td>\n",
       "      <td>NaN</td>\n",
       "      <td>NaN</td>\n",
       "      <td>NaN</td>\n",
       "      <td>NaN</td>\n",
       "      <td>NaN</td>\n",
       "      <td>498.020</td>\n",
       "      <td>Estadual</td>\n",
       "      <td>Formulário 5</td>\n",
       "    </tr>\n",
       "    <tr>\n",
       "      <th>3</th>\n",
       "      <td>AP</td>\n",
       "      <td>NÃO INFORMADO</td>\n",
       "      <td>Apreensão de Cocaína</td>\n",
       "      <td>2025-01-01</td>\n",
       "      <td>NaN</td>\n",
       "      <td>NaN</td>\n",
       "      <td>NaN</td>\n",
       "      <td>NaN</td>\n",
       "      <td>NaN</td>\n",
       "      <td>NaN</td>\n",
       "      <td>NaN</td>\n",
       "      <td>NaN</td>\n",
       "      <td>NaN</td>\n",
       "      <td>Estadual</td>\n",
       "      <td>Formulário 5</td>\n",
       "    </tr>\n",
       "    <tr>\n",
       "      <th>4</th>\n",
       "      <td>BA</td>\n",
       "      <td>NÃO INFORMADO</td>\n",
       "      <td>Apreensão de Cocaína</td>\n",
       "      <td>2025-01-01</td>\n",
       "      <td>NaN</td>\n",
       "      <td>NaN</td>\n",
       "      <td>NaN</td>\n",
       "      <td>NaN</td>\n",
       "      <td>NaN</td>\n",
       "      <td>NaN</td>\n",
       "      <td>NaN</td>\n",
       "      <td>NaN</td>\n",
       "      <td>215.877</td>\n",
       "      <td>Estadual</td>\n",
       "      <td>Formulário 5</td>\n",
       "    </tr>\n",
       "  </tbody>\n",
       "</table>\n",
       "</div>"
      ],
      "text/plain": [
       "   uf      municipio                evento data_referencia agente arma  \\\n",
       "0  AC  NÃO INFORMADO  Apreensão de Cocaína      2025-01-01    NaN  NaN   \n",
       "1  AL  NÃO INFORMADO  Apreensão de Cocaína      2025-01-01    NaN  NaN   \n",
       "2  AM  NÃO INFORMADO  Apreensão de Cocaína      2025-01-01    NaN  NaN   \n",
       "3  AP  NÃO INFORMADO  Apreensão de Cocaína      2025-01-01    NaN  NaN   \n",
       "4  BA  NÃO INFORMADO  Apreensão de Cocaína      2025-01-01    NaN  NaN   \n",
       "\n",
       "  faixa_etaria  feminino  masculino  nao_informado  total_vitima  total  \\\n",
       "0          NaN       NaN        NaN            NaN           NaN    NaN   \n",
       "1          NaN       NaN        NaN            NaN           NaN    NaN   \n",
       "2          NaN       NaN        NaN            NaN           NaN    NaN   \n",
       "3          NaN       NaN        NaN            NaN           NaN    NaN   \n",
       "4          NaN       NaN        NaN            NaN           NaN    NaN   \n",
       "\n",
       "   total_peso abrangencia    formulario  \n",
       "0      10.121    Estadual  Formulário 5  \n",
       "1      25.380    Estadual  Formulário 5  \n",
       "2     498.020    Estadual  Formulário 5  \n",
       "3         NaN    Estadual  Formulário 5  \n",
       "4     215.877    Estadual  Formulário 5  "
      ]
     },
     "execution_count": 3,
     "metadata": {},
     "output_type": "execute_result"
    }
   ],
   "source": [
    "dados_2025.head()"
   ]
  },
  {
   "cell_type": "code",
   "execution_count": 6,
   "id": "a5b6389a",
   "metadata": {},
   "outputs": [
    {
     "data": {
      "application/vnd.microsoft.datawrangler.viewer.v0+json": {
       "columns": [
        {
         "name": "index",
         "rawType": "int64",
         "type": "integer"
        },
        {
         "name": "uf",
         "rawType": "object",
         "type": "string"
        },
        {
         "name": "municipio",
         "rawType": "object",
         "type": "string"
        },
        {
         "name": "evento",
         "rawType": "object",
         "type": "string"
        },
        {
         "name": "data_referencia",
         "rawType": "datetime64[ns]",
         "type": "datetime"
        },
        {
         "name": "agente",
         "rawType": "object",
         "type": "unknown"
        },
        {
         "name": "arma",
         "rawType": "object",
         "type": "unknown"
        },
        {
         "name": "faixa_etaria",
         "rawType": "object",
         "type": "unknown"
        },
        {
         "name": "feminino",
         "rawType": "float64",
         "type": "float"
        },
        {
         "name": "masculino",
         "rawType": "float64",
         "type": "float"
        },
        {
         "name": "nao_informado",
         "rawType": "float64",
         "type": "float"
        },
        {
         "name": "total_vitima",
         "rawType": "float64",
         "type": "float"
        },
        {
         "name": "total",
         "rawType": "float64",
         "type": "float"
        },
        {
         "name": "total_peso",
         "rawType": "float64",
         "type": "float"
        },
        {
         "name": "abrangencia",
         "rawType": "object",
         "type": "string"
        },
        {
         "name": "formulario",
         "rawType": "object",
         "type": "string"
        }
       ],
       "conversionMethod": "pd.DataFrame",
       "ref": "12e49650-e482-4efb-8786-62d6629e8ddd",
       "rows": [
        [
         "0",
         "AC",
         "NÃO INFORMADO",
         "Apreensão de Cocaína",
         "2024-01-01 00:00:00",
         null,
         null,
         null,
         null,
         null,
         null,
         null,
         null,
         "10.154",
         "Estadual",
         "Formulário 5"
        ],
        [
         "1",
         "AL",
         "NÃO INFORMADO",
         "Apreensão de Cocaína",
         "2024-01-01 00:00:00",
         null,
         null,
         null,
         null,
         null,
         null,
         null,
         null,
         "42.13",
         "Estadual",
         "Formulário 5"
        ],
        [
         "2",
         "AM",
         "NÃO INFORMADO",
         "Apreensão de Cocaína",
         "2024-01-01 00:00:00",
         null,
         null,
         null,
         null,
         null,
         null,
         null,
         null,
         "126.58",
         "Estadual",
         "Formulário 5"
        ],
        [
         "3",
         "AP",
         "NÃO INFORMADO",
         "Apreensão de Cocaína",
         "2024-01-01 00:00:00",
         null,
         null,
         null,
         null,
         null,
         null,
         null,
         null,
         "0.87",
         "Estadual",
         "Formulário 5"
        ],
        [
         "4",
         "BA",
         "NÃO INFORMADO",
         "Apreensão de Cocaína",
         "2024-01-01 00:00:00",
         null,
         null,
         null,
         null,
         null,
         null,
         null,
         null,
         "40.417",
         "Estadual",
         "Formulário 5"
        ]
       ],
       "shape": {
        "columns": 15,
        "rows": 5
       }
      },
      "text/html": [
       "<div>\n",
       "<style scoped>\n",
       "    .dataframe tbody tr th:only-of-type {\n",
       "        vertical-align: middle;\n",
       "    }\n",
       "\n",
       "    .dataframe tbody tr th {\n",
       "        vertical-align: top;\n",
       "    }\n",
       "\n",
       "    .dataframe thead th {\n",
       "        text-align: right;\n",
       "    }\n",
       "</style>\n",
       "<table border=\"1\" class=\"dataframe\">\n",
       "  <thead>\n",
       "    <tr style=\"text-align: right;\">\n",
       "      <th></th>\n",
       "      <th>uf</th>\n",
       "      <th>municipio</th>\n",
       "      <th>evento</th>\n",
       "      <th>data_referencia</th>\n",
       "      <th>agente</th>\n",
       "      <th>arma</th>\n",
       "      <th>faixa_etaria</th>\n",
       "      <th>feminino</th>\n",
       "      <th>masculino</th>\n",
       "      <th>nao_informado</th>\n",
       "      <th>total_vitima</th>\n",
       "      <th>total</th>\n",
       "      <th>total_peso</th>\n",
       "      <th>abrangencia</th>\n",
       "      <th>formulario</th>\n",
       "    </tr>\n",
       "  </thead>\n",
       "  <tbody>\n",
       "    <tr>\n",
       "      <th>0</th>\n",
       "      <td>AC</td>\n",
       "      <td>NÃO INFORMADO</td>\n",
       "      <td>Apreensão de Cocaína</td>\n",
       "      <td>2024-01-01</td>\n",
       "      <td>NaN</td>\n",
       "      <td>NaN</td>\n",
       "      <td>NaN</td>\n",
       "      <td>NaN</td>\n",
       "      <td>NaN</td>\n",
       "      <td>NaN</td>\n",
       "      <td>NaN</td>\n",
       "      <td>NaN</td>\n",
       "      <td>10.154</td>\n",
       "      <td>Estadual</td>\n",
       "      <td>Formulário 5</td>\n",
       "    </tr>\n",
       "    <tr>\n",
       "      <th>1</th>\n",
       "      <td>AL</td>\n",
       "      <td>NÃO INFORMADO</td>\n",
       "      <td>Apreensão de Cocaína</td>\n",
       "      <td>2024-01-01</td>\n",
       "      <td>NaN</td>\n",
       "      <td>NaN</td>\n",
       "      <td>NaN</td>\n",
       "      <td>NaN</td>\n",
       "      <td>NaN</td>\n",
       "      <td>NaN</td>\n",
       "      <td>NaN</td>\n",
       "      <td>NaN</td>\n",
       "      <td>42.130</td>\n",
       "      <td>Estadual</td>\n",
       "      <td>Formulário 5</td>\n",
       "    </tr>\n",
       "    <tr>\n",
       "      <th>2</th>\n",
       "      <td>AM</td>\n",
       "      <td>NÃO INFORMADO</td>\n",
       "      <td>Apreensão de Cocaína</td>\n",
       "      <td>2024-01-01</td>\n",
       "      <td>NaN</td>\n",
       "      <td>NaN</td>\n",
       "      <td>NaN</td>\n",
       "      <td>NaN</td>\n",
       "      <td>NaN</td>\n",
       "      <td>NaN</td>\n",
       "      <td>NaN</td>\n",
       "      <td>NaN</td>\n",
       "      <td>126.580</td>\n",
       "      <td>Estadual</td>\n",
       "      <td>Formulário 5</td>\n",
       "    </tr>\n",
       "    <tr>\n",
       "      <th>3</th>\n",
       "      <td>AP</td>\n",
       "      <td>NÃO INFORMADO</td>\n",
       "      <td>Apreensão de Cocaína</td>\n",
       "      <td>2024-01-01</td>\n",
       "      <td>NaN</td>\n",
       "      <td>NaN</td>\n",
       "      <td>NaN</td>\n",
       "      <td>NaN</td>\n",
       "      <td>NaN</td>\n",
       "      <td>NaN</td>\n",
       "      <td>NaN</td>\n",
       "      <td>NaN</td>\n",
       "      <td>0.870</td>\n",
       "      <td>Estadual</td>\n",
       "      <td>Formulário 5</td>\n",
       "    </tr>\n",
       "    <tr>\n",
       "      <th>4</th>\n",
       "      <td>BA</td>\n",
       "      <td>NÃO INFORMADO</td>\n",
       "      <td>Apreensão de Cocaína</td>\n",
       "      <td>2024-01-01</td>\n",
       "      <td>NaN</td>\n",
       "      <td>NaN</td>\n",
       "      <td>NaN</td>\n",
       "      <td>NaN</td>\n",
       "      <td>NaN</td>\n",
       "      <td>NaN</td>\n",
       "      <td>NaN</td>\n",
       "      <td>NaN</td>\n",
       "      <td>40.417</td>\n",
       "      <td>Estadual</td>\n",
       "      <td>Formulário 5</td>\n",
       "    </tr>\n",
       "  </tbody>\n",
       "</table>\n",
       "</div>"
      ],
      "text/plain": [
       "   uf      municipio                evento data_referencia agente arma  \\\n",
       "0  AC  NÃO INFORMADO  Apreensão de Cocaína      2024-01-01    NaN  NaN   \n",
       "1  AL  NÃO INFORMADO  Apreensão de Cocaína      2024-01-01    NaN  NaN   \n",
       "2  AM  NÃO INFORMADO  Apreensão de Cocaína      2024-01-01    NaN  NaN   \n",
       "3  AP  NÃO INFORMADO  Apreensão de Cocaína      2024-01-01    NaN  NaN   \n",
       "4  BA  NÃO INFORMADO  Apreensão de Cocaína      2024-01-01    NaN  NaN   \n",
       "\n",
       "  faixa_etaria  feminino  masculino  nao_informado  total_vitima  total  \\\n",
       "0          NaN       NaN        NaN            NaN           NaN    NaN   \n",
       "1          NaN       NaN        NaN            NaN           NaN    NaN   \n",
       "2          NaN       NaN        NaN            NaN           NaN    NaN   \n",
       "3          NaN       NaN        NaN            NaN           NaN    NaN   \n",
       "4          NaN       NaN        NaN            NaN           NaN    NaN   \n",
       "\n",
       "   total_peso abrangencia    formulario  \n",
       "0      10.154    Estadual  Formulário 5  \n",
       "1      42.130    Estadual  Formulário 5  \n",
       "2     126.580    Estadual  Formulário 5  \n",
       "3       0.870    Estadual  Formulário 5  \n",
       "4      40.417    Estadual  Formulário 5  "
      ]
     },
     "execution_count": 6,
     "metadata": {},
     "output_type": "execute_result"
    }
   ],
   "source": [
    "dados_2024.head()"
   ]
  }
 ],
 "metadata": {
  "kernelspec": {
   "display_name": "Python (Poetry - Jornada)",
   "language": "python",
   "name": "poetry-jornada"
  },
  "language_info": {
   "codemirror_mode": {
    "name": "ipython",
    "version": 3
   },
   "file_extension": ".py",
   "mimetype": "text/x-python",
   "name": "python",
   "nbconvert_exporter": "python",
   "pygments_lexer": "ipython3",
   "version": "3.12.5"
  }
 },
 "nbformat": 4,
 "nbformat_minor": 5
}
